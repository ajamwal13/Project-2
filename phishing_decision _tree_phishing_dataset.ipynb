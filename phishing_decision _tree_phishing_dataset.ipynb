{
 "cells": [
  {
   "cell_type": "code",
   "execution_count": 69,
   "metadata": {},
   "outputs": [],
   "source": [
    "from ucimlrepo import fetch_ucirepo\n"
   ]
  },
  {
   "cell_type": "code",
   "execution_count": 86,
   "metadata": {},
   "outputs": [],
   "source": [
    "# fetch dataset\n",
    "phiusiil_phishing_url_website = fetch_ucirepo(id=967)"
   ]
  },
  {
   "cell_type": "code",
   "execution_count": 87,
   "metadata": {},
   "outputs": [
    {
     "name": "stderr",
     "output_type": "stream",
     "text": [
      "/var/folders/tj/k2qhl9wn4k1b8qp9bzfzdhrm0000gn/T/ipykernel_66512/2224578497.py:10: SettingWithCopyWarning: \n",
      "A value is trying to be set on a copy of a slice from a DataFrame\n",
      "\n",
      "See the caveats in the documentation: https://pandas.pydata.org/pandas-docs/stable/user_guide/indexing.html#returning-a-view-versus-a-copy\n",
      "  X.drop(['URL', 'TLD', 'Domain', 'Title', 'LineOfCode'], inplace=True, axis=1)\n"
     ]
    }
   ],
   "source": [
    "# data (as pandas dataframes)\n",
    "X = phiusiil_phishing_url_website.data.features\n",
    "y = phiusiil_phishing_url_website.data.targets\n",
    "\n",
    "X.dtypes\n",
    "# Drop Non Numeric\n",
    "X.drop(['URL', 'TLD', 'Domain', 'Title'], inplace=True, axis=1)\n"
   ]
  },
  {
   "cell_type": "code",
   "execution_count": 59,
   "metadata": {},
   "outputs": [
    {
     "data": {
      "text/plain": [
       "URLLength                       int64\n",
       "DomainLength                    int64\n",
       "IsDomainIP                      int64\n",
       "URLSimilarityIndex            float64\n",
       "CharContinuationRate          float64\n",
       "TLDLegitimateProb             float64\n",
       "URLCharProb                   float64\n",
       "TLDLength                       int64\n",
       "NoOfSubDomain                   int64\n",
       "HasObfuscation                  int64\n",
       "NoOfObfuscatedChar              int64\n",
       "ObfuscationRatio              float64\n",
       "NoOfLettersInURL                int64\n",
       "LetterRatioInURL              float64\n",
       "NoOfDegitsInURL                 int64\n",
       "DegitRatioInURL               float64\n",
       "NoOfEqualsInURL                 int64\n",
       "NoOfQMarkInURL                  int64\n",
       "NoOfAmpersandInURL              int64\n",
       "NoOfOtherSpecialCharsInURL      int64\n",
       "SpacialCharRatioInURL         float64\n",
       "IsHTTPS                         int64\n",
       "LineOfCode                      int64\n",
       "LargestLineLength               int64\n",
       "HasTitle                        int64\n",
       "DomainTitleMatchScore         float64\n",
       "URLTitleMatchScore            float64\n",
       "HasFavicon                      int64\n",
       "Robots                          int64\n",
       "IsResponsive                    int64\n",
       "NoOfURLRedirect                 int64\n",
       "NoOfSelfRedirect                int64\n",
       "HasDescription                  int64\n",
       "NoOfPopup                       int64\n",
       "NoOfiFrame                      int64\n",
       "HasExternalFormSubmit           int64\n",
       "HasSocialNet                    int64\n",
       "HasSubmitButton                 int64\n",
       "HasHiddenFields                 int64\n",
       "HasPasswordField                int64\n",
       "Bank                            int64\n",
       "Pay                             int64\n",
       "Crypto                          int64\n",
       "HasCopyrightInfo                int64\n",
       "NoOfImage                       int64\n",
       "NoOfCSS                         int64\n",
       "NoOfJS                          int64\n",
       "NoOfSelfRef                     int64\n",
       "NoOfEmptyRef                    int64\n",
       "NoOfExternalRef                 int64\n",
       "dtype: object"
      ]
     },
     "execution_count": 59,
     "metadata": {},
     "output_type": "execute_result"
    }
   ],
   "source": [
    "X.dtypes"
   ]
  },
  {
   "cell_type": "markdown",
   "metadata": {},
   "source": [
    "# Decision Tree Classifier:  Non-ecoded"
   ]
  },
  {
   "cell_type": "code",
   "execution_count": 88,
   "metadata": {},
   "outputs": [
    {
     "name": "stdout",
     "output_type": "stream",
     "text": [
      "Training Data Score: 1.0\n",
      "Testing Data Score: 0.9998642894705593\n",
      "Accuracy Score : 0.9998642894705593\n",
      "feat importance: model_not_scaled = [0.00000000e+00 0.00000000e+00 0.00000000e+00 4.83102722e-01\n",
      " 0.00000000e+00 0.00000000e+00 0.00000000e+00 0.00000000e+00\n",
      " 5.65335271e-05 0.00000000e+00 0.00000000e+00 0.00000000e+00\n",
      " 0.00000000e+00 1.13073756e-05 0.00000000e+00 0.00000000e+00\n",
      " 0.00000000e+00 0.00000000e+00 0.00000000e+00 0.00000000e+00\n",
      " 0.00000000e+00 6.15001423e-03 1.12860567e-04 3.52520972e-07\n",
      " 0.00000000e+00 9.42439561e-06 0.00000000e+00 0.00000000e+00\n",
      " 0.00000000e+00 0.00000000e+00 0.00000000e+00 0.00000000e+00\n",
      " 0.00000000e+00 0.00000000e+00 0.00000000e+00 0.00000000e+00\n",
      " 0.00000000e+00 0.00000000e+00 0.00000000e+00 0.00000000e+00\n",
      " 0.00000000e+00 7.53951649e-06 0.00000000e+00 4.82993114e-05\n",
      " 2.50067770e-05 0.00000000e+00 0.00000000e+00 0.00000000e+00\n",
      " 3.42628031e-08]\n"
     ]
    }
   ],
   "source": [
    "from sklearn import tree\n",
    "from sklearn.metrics import accuracy_score\n",
    "from sklearn.model_selection import train_test_split\n",
    "\n",
    "# Create the decision tree classifier instance\n",
    "model_not_scaled = tree.DecisionTreeClassifier()\n",
    "\n",
    "# Splitting into Train and Test sets\n",
    "X_train, X_test, y_train, y_test = train_test_split(X, y, random_state=78)\n",
    "\n",
    "# Fit the model - without scaling\n",
    "model_not_scaled = model_not_scaled.fit(X_train, y_train)\n",
    "\n",
    "print(f\"Training Data Score: {model_not_scaled.score(X_train, y_train)}\")\n",
    "print(f\"Testing Data Score: {model_not_scaled.score(X_test, y_test)}\")\n",
    "\n",
    "# Making predictions using the testing data - without scaling\n",
    "predictions = model_not_scaled.predict(X_test)\n",
    "\n",
    "# Calculate the accuracy score\n",
    "acc_score = accuracy_score(y_test, predictions)\n",
    "\n",
    "print(f\"Accuracy Score : {acc_score}\")\n",
    "\n",
    "feat_importance = model_not_scaled.tree_.compute_feature_importances(normalize=False)\n",
    "print(\"feat importance: model_not_scaled = \" + str(feat_importance))"
   ]
  },
  {
   "cell_type": "markdown",
   "metadata": {},
   "source": [
    "# Decision Tree Classifier: Ecoded"
   ]
  },
  {
   "cell_type": "code",
   "execution_count": 73,
   "metadata": {},
   "outputs": [
    {
     "name": "stdout",
     "output_type": "stream",
     "text": [
      "Training Data Score: 1.0\n",
      "Testing Data Score: 0.9989821710291947\n",
      "Accuracy Score : 0.9989482433968345\n",
      "feat importance: model_scaled: = [8.19605271e-04 1.87590351e-05 1.12518673e-05 4.43905076e-04\n",
      " 3.95603249e-04 1.35623582e-04 2.26185495e-05 5.14553864e-03\n",
      " 0.00000000e+00 0.00000000e+00 0.00000000e+00 2.39417128e-04\n",
      " 5.25645746e-04 6.22039955e-04 1.50137457e-05 1.12839199e-05\n",
      " 0.00000000e+00 0.00000000e+00 1.28611449e-02 8.23352528e-05\n",
      " 7.39306197e-03 5.65688207e-03 3.55452487e-04 9.26498095e-05\n",
      " 4.99925318e-04 0.00000000e+00 5.65463737e-06 9.89561539e-06\n",
      " 0.00000000e+00 0.00000000e+00 0.00000000e+00 1.16750802e-03\n",
      " 7.42236720e-06 9.37830304e-07 0.00000000e+00 4.05966897e-03\n",
      " 0.00000000e+00 1.31941539e-05 0.00000000e+00 0.00000000e+00\n",
      " 0.00000000e+00 0.00000000e+00 2.56468316e-05 2.31475582e-03\n",
      " 4.05619907e-06 1.95290286e-04 3.00593931e-02 2.55692546e-05\n",
      " 4.16287343e-01]\n"
     ]
    }
   ],
   "source": [
    "from sklearn.preprocessing import StandardScaler\n",
    "\n",
    "# Create the StandardScaler instance\n",
    "scaler = StandardScaler()\n",
    "\n",
    "# Fit the StandardScaler with the training data\n",
    "X_scaler = scaler.fit(X_train)\n",
    "\n",
    "# Scale the training data\n",
    "X_train_scaled = X_scaler.transform(X_train)\n",
    "X_test_scaled = X_scaler.transform(X_test)\n",
    "\n",
    "# Create the decision tree classifier instance\n",
    "model_scaled = tree.DecisionTreeClassifier()\n",
    "\n",
    "# Fit the model - With Scaling\n",
    "model_scaled = model_scaled.fit(X_train_scaled, y_train)\n",
    "\n",
    "print(f\"Training Data Score: {model_not_scaled.score(X_train, y_train)}\")\n",
    "print(f\"Testing Data Score: {model_not_scaled.score(X_test, y_test)}\")\n",
    "\n",
    "# Making predictions using the testing data - without scaling\n",
    "predictions = model_scaled.predict(X_test_scaled)\n",
    "\n",
    "# Calculate the accuracy score\n",
    "acc_score = accuracy_score(y_test, predictions)\n",
    "\n",
    "print(f\"Accuracy Score : {acc_score}\")\n",
    "\n",
    "feat_importance = model_scaled.tree_.compute_feature_importances(normalize=False)\n",
    "print(\"feat importance: model_scaled: = \" + str(feat_importance))\n"
   ]
  }
 ],
 "metadata": {
  "kernelspec": {
   "display_name": "dev",
   "language": "python",
   "name": "python3"
  },
  "language_info": {
   "codemirror_mode": {
    "name": "ipython",
    "version": 3
   },
   "file_extension": ".py",
   "mimetype": "text/x-python",
   "name": "python",
   "nbconvert_exporter": "python",
   "pygments_lexer": "ipython3",
   "version": "3.10.13"
  }
 },
 "nbformat": 4,
 "nbformat_minor": 2
}
